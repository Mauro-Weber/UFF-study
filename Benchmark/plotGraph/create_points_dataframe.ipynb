{
 "cells": [
  {
   "cell_type": "code",
   "execution_count": 1,
   "id": "69174d50",
   "metadata": {},
   "outputs": [],
   "source": [
    "# Import SparkSession\n",
    "from pyspark.sql import SparkSession"
   ]
  },
  {
   "cell_type": "code",
   "execution_count": 2,
   "id": "a530a1e2",
   "metadata": {},
   "outputs": [],
   "source": [
    "# Import Numpy\n",
    "import numpy as np\n",
    "\n",
    "from pyspark.sql.types import DoubleType, ArrayType, FloatType, StructType, StructField, IntegerType"
   ]
  },
  {
   "cell_type": "code",
   "execution_count": 6,
   "id": "1f51c7f4",
   "metadata": {},
   "outputs": [],
   "source": [
    "spark = SparkSession.builder.appName(\"CreateDF\").getOrCreate()\n",
    "\n",
    "n = 600000\n",
    "\n",
    "# Create Valuesof x and y\n",
    "xvalues = np.random.rand(n).round(5).tolist()\n",
    "yvalues = np.random.rand(n).round(5).tolist()\n",
    "\n",
    "lista = [] # id , coordinate x , coordinate y\n",
    "\n",
    "for i in range(n):\n",
    "    value = (i+1,xvalues[i],yvalues[i])\n",
    "    lista.append(value)  \n",
    "    \n",
    "coordColumns = [\"id\",\"coord_x\",\"coord_y\"]\n",
    "coordDF = spark.createDataFrame(data=lista, schema = coordColumns) "
   ]
  },
  {
   "cell_type": "code",
   "execution_count": 7,
   "id": "b9fd6339",
   "metadata": {},
   "outputs": [
    {
     "name": "stdout",
     "output_type": "stream",
     "text": [
      "+---+-------+-------+\n",
      "| id|coord_x|coord_y|\n",
      "+---+-------+-------+\n",
      "|  1|0.25565|0.13764|\n",
      "|  2|0.38839|0.16551|\n",
      "|  3|0.93765|0.89126|\n",
      "|  4| 0.0731|0.98754|\n",
      "|  5|0.68421|0.71669|\n",
      "|  6|0.75719|0.62981|\n",
      "|  7|0.43146|0.06128|\n",
      "|  8|0.37129|0.22619|\n",
      "|  9|0.40087|0.47229|\n",
      "| 10|0.06325|0.97673|\n",
      "| 11| 0.3643|0.60596|\n",
      "| 12|0.11299|0.93212|\n",
      "| 13| 0.9984|0.14294|\n",
      "| 14|0.90009|0.52481|\n",
      "| 15|0.70286|0.58213|\n",
      "| 16|0.51065|0.12876|\n",
      "| 17|0.90682|0.35447|\n",
      "| 18|0.23737|0.62328|\n",
      "| 19| 0.0295|0.53449|\n",
      "| 20|0.21466|0.75644|\n",
      "+---+-------+-------+\n",
      "only showing top 20 rows\n",
      "\n"
     ]
    },
    {
     "name": "stderr",
     "output_type": "stream",
     "text": [
      "2023-05-15 13:50:26,644 WARN scheduler.TaskSetManager: Stage 2 contains a task of very large size (1703 KiB). The maximum recommended task size is 1000 KiB.\n"
     ]
    }
   ],
   "source": [
    "coordDF.show()"
   ]
  },
  {
   "cell_type": "code",
   "execution_count": 8,
   "id": "4ec1e217",
   "metadata": {},
   "outputs": [
    {
     "name": "stderr",
     "output_type": "stream",
     "text": [
      "2023-05-15 13:50:30,354 WARN scheduler.TaskSetManager: Stage 3 contains a task of very large size (1703 KiB). The maximum recommended task size is 1000 KiB.\n",
      "                                                                                \r"
     ]
    }
   ],
   "source": [
    "coordDF.write.csv(\"/home/weber/Documents/coordDF600K.csv\", mode=\"overwrite\")"
   ]
  },
  {
   "cell_type": "code",
   "execution_count": null,
   "id": "5341ca11",
   "metadata": {},
   "outputs": [],
   "source": [
    "schema = StructType([\n",
    "    StructField(\"id\", IntegerType(), True),\n",
    "    StructField(\"coord_x\", FloatType(), True),\n",
    "    StructField(\"coord_y\", FloatType(), True)])\n",
    "\n",
    "##LOAD THE DATASET FROM HIVE\n",
    "df = spark.read.csv(\"/home/weber/Documents/coordDF.csv\",schema=schema)\n",
    "##SMALL SANITY CHECK - @PRODUCTION TESTAR LOADING\n",
    "df = df.na.drop()"
   ]
  },
  {
   "cell_type": "code",
   "execution_count": null,
   "id": "ad42ef63",
   "metadata": {},
   "outputs": [],
   "source": []
  }
 ],
 "metadata": {
  "kernelspec": {
   "display_name": "Python 3 (ipykernel)",
   "language": "python",
   "name": "python3"
  },
  "language_info": {
   "codemirror_mode": {
    "name": "ipython",
    "version": 3
   },
   "file_extension": ".py",
   "mimetype": "text/x-python",
   "name": "python",
   "nbconvert_exporter": "python",
   "pygments_lexer": "ipython3",
   "version": "3.8.10"
  }
 },
 "nbformat": 4,
 "nbformat_minor": 5
}
