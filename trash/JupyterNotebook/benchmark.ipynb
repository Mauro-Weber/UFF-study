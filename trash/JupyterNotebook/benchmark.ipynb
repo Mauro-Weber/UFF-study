{
 "cells": [
  {
   "cell_type": "code",
   "execution_count": 6,
   "id": "7be803c3",
   "metadata": {},
   "outputs": [],
   "source": [
    "# Import SparkSession\n",
    "from pyspark.sql import SparkSession\n",
    "import pyspark.sql.functions as F\n",
    "from pyspark.sql.types import DoubleType, FloatType, StructType, StructField, IntegerType\n",
    "from pyspark.sql.functions import spark_partition_id, col\n",
    "\n",
    "## the distance function\n",
    "from scipy.spatial import distance\n",
    "## creates the feature vector\n",
    "from pyspark.ml.feature import VectorAssembler\n",
    "## import numpy\n",
    "import numpy as np\n",
    "\n",
    "import time\n",
    "\n",
    "from pyspark.sql.functions import max, abs\n",
    "\n",
    "from functools import reduce\n",
    "\n",
    "from pyspark.sql.functions import greatest\n",
    "\n",
    "## start session\n",
    "spark = SparkSession.builder.appName(\"SparkLAESAKnn\").getOrCreate()"
   ]
  },
  {
   "cell_type": "code",
   "execution_count": 7,
   "id": "0a981d85",
   "metadata": {},
   "outputs": [],
   "source": [
    "def knn(dataframe, oq, k):       \n",
    "    \n",
    "    ##CALCULATES THE DIST FROM ELEMENTS WITHIN THE DF TO THE QUERY POINT\n",
    "    df = dataframe.withColumn('distances', simpleF(oq)(F.col('fv')))\n",
    "    \n",
    "    ##SORTS AND RETRIEVES THE TOP-K RESULTS\n",
    "    resultSet = df.select(\"id\", \"distances\").orderBy('distances').limit(k)\n",
    "    return(resultSet)\n"
   ]
  },
  {
   "cell_type": "code",
   "execution_count": 14,
   "id": "f9ce71af",
   "metadata": {},
   "outputs": [],
   "source": [
    "def laesa_knn(df, oq, k):\n",
    "    \n",
    "    ## PART_ZERO --> CALCULATE LOWER BOUND \n",
    "    lista_columns = []\n",
    "    for i in range(len(pivots)):\n",
    "        df = df.withColumn(f\"|d(oq,p{i+1})-d(oi,p{i+1})|\", \\\n",
    "            abs (distance.euclidean(oq, pivots[i][1]) - \\\n",
    "            F.col(f'distances_oi_pivot{i+1}')))\n",
    "\n",
    "        lista_columns.append(f\"|d(oq,p{i+1})-d(oi,p{i+1})|\")\n",
    "\n",
    "    df = df.withColumn(\"lower_bound\", greatest(*[col_name for col_name in lista_columns]))\n",
    "    \n",
    "    \n",
    "    ## PART_ONE --> DEFINE FIRST WINDOW \n",
    "    df_limit_k = df.limit(k).withColumn(\"dist_Oq\", simpleF(oq)(F.col('fv'))).orderBy(\"dist_Oq\")\n",
    "    r_laesa = df_limit_k.agg(max('dist_Oq')).collect()[0][0]\n",
    "    \n",
    "    \n",
    "    ## PART_TWO --> EXTEND WINDOW AND DROP OVERRUN ROWS\n",
    "    i=1\n",
    "    while i < df.count():\n",
    "        i = min(i+k, df.count())\n",
    "        # PART_TWO\n",
    "        df = df.filter(df[\"lower_bound\"] <= r_laesa)\n",
    "        df_limit_k = df.limit(i+k).withColumn(\"dist_Oq\", simpleF(oq)(F.col('fv'))).orderBy(\"dist_Oq\").limit(k)\n",
    "        r_laesa = df_limit_k.agg(max('dist_Oq')).collect()[0][0]\n",
    "\n",
    "    \n",
    "    \n",
    "    ## RETURN RESULT SET\n",
    "    df_count = df.count()\n",
    "    rSet = df_limit_k[\"id\",\"dist_Oq\"]     \n",
    "    return(rSet, df_count)  "
   ]
  },
  {
   "cell_type": "code",
   "execution_count": 9,
   "id": "cf2d20fa",
   "metadata": {},
   "outputs": [],
   "source": [
    "## OBJECT QUERY\n",
    "oq = [np.random.rand(1)[0],np.random.rand(1)[0]]\n",
    "\n",
    "## K TOP-K RESULT\n",
    "k = 3\n",
    "\n",
    "## PIVOT AMOUNT\n",
    "p = 2\n",
    "\n",
    "## CREATE PIVOTS\n",
    "pivots = [(i+1,[np.random.rand(1)[0],np.random.rand(1)[0]]) for i in range(p)]\n"
   ]
  },
  {
   "cell_type": "code",
   "execution_count": 10,
   "id": "c55b9a49",
   "metadata": {},
   "outputs": [
    {
     "name": "stdout",
     "output_type": "stream",
     "text": [
      "+---+-------+-------+--------------------+-------------------+-------------------+\n",
      "| id|coord_x|coord_y|                  fv|distances_oi_pivot1|distances_oi_pivot2|\n",
      "+---+-------+-------+--------------------+-------------------+-------------------+\n",
      "| 85|0.89244| 0.6258|[0.89244002103805...| 0.3749798092719081| 0.5888963871514872|\n",
      "| 86|0.42807|  0.141|[0.42807000875473...| 0.5610672702466463| 0.5044307887543074|\n",
      "| 87|0.74827|0.17428|[0.74826997518539...|0.24372472798545677|0.22086927342911752|\n",
      "| 88|0.49114| 0.6876|[0.49114000797271...| 0.6464927709864476| 0.7796915056445385|\n",
      "| 89|0.07834|0.31046|[0.07834000140428...| 0.8993620234028737| 0.8864832851148493|\n",
      "| 90|0.57788| 0.5282|[0.57788002490997...| 0.4801057782675515| 0.5991093600207134|\n",
      "| 91|0.64505|0.70722|[0.64504998922348...| 0.5562820810320263|  0.724521823476259|\n",
      "| 92|0.74659|0.53865|[0.74659001827239...|  0.360883105880811| 0.5307660984019014|\n",
      "| 93|0.69361|0.12281|[0.69361001253128...|0.31436281470565564|0.24356499671175785|\n",
      "| 94|0.81091|0.43426|[0.81090998649597...|0.24002208334677255|  0.411833299931954|\n",
      "| 95|0.71852|0.57866|[0.71851998567581...| 0.4096261365666366| 0.5779521574686411|\n",
      "| 96|0.37698|0.57437|[0.37698000669479...| 0.6766215364670988| 0.7647934934311513|\n",
      "| 97|0.14923|0.05248|[0.14923000335693...| 0.8527876791725819| 0.7727095144617276|\n",
      "| 98|0.70148|0.50562|[0.70147997140884...| 0.3683757369031884| 0.5172511584039354|\n",
      "| 99| 0.2698|0.97647|[0.26980000734329...| 1.0059919836707578| 1.1430265071196315|\n",
      "|100|0.67791|0.18267|[0.67790997028350...| 0.3083306292292035| 0.2837529910125159|\n",
      "| 61|0.05589|0.20361|[0.05589000135660...| 0.9221584761206034| 0.8816701350849591|\n",
      "| 62|0.40406|0.87076|[0.40406000614166...| 0.8367205353600797| 0.9808911585179991|\n",
      "| 63|0.66367|0.53602|[0.66367000341415...|0.41683435252419776| 0.5612631158730258|\n",
      "| 64|0.42078|0.87104|[0.42078000307083...| 0.8255827547798299|  0.972409620572829|\n",
      "+---+-------+-------+--------------------+-------------------+-------------------+\n",
      "only showing top 20 rows\n",
      "\n"
     ]
    }
   ],
   "source": [
    "##\n",
    "## DATAFRAME CONFIG\n",
    "##\n",
    "\n",
    "schema = StructType([\n",
    "    StructField(\"id\", IntegerType(), True),\n",
    "    StructField(\"coord_x\", FloatType(), True),\n",
    "    StructField(\"coord_y\", FloatType(), True)])\n",
    "\n",
    "#df = spark.createDataFrame(data = data, schema = schema)\n",
    "df = spark.read.csv(\"/home/weber/Documents/coordDF2.csv\",schema=schema)\n",
    "\n",
    "##SMALL SANITY CHECK - @PRODUCTION TESTAR LOADING\n",
    "df = df.na.drop()\n",
    "\n",
    "\n",
    "## define the struct for the dimensional feature vector\n",
    "cNames = df.columns\n",
    "cNames.remove(\"id\")\n",
    "assembler = VectorAssembler(\n",
    "    inputCols=cNames,\n",
    "    outputCol=\"fv\")\n",
    "\n",
    "## appends the fv into the dataframe as column\n",
    "df = assembler.transform(df)\n",
    "\n",
    "## calculates the distance from oi to pivots\n",
    "for i in range(len(pivots)):\n",
    "    df = df.withColumn(f'distances_oi_pivot{i+1}', simpleF(pivots[i][1])(F.col('fv')))\n",
    "\n",
    "#df = df.orderBy(\"|d(oq,p1)-d(oi,p1)|\")\n",
    "df.show()"
   ]
  },
  {
   "cell_type": "code",
   "execution_count": 16,
   "id": "3f493d83",
   "metadata": {},
   "outputs": [
    {
     "name": "stderr",
     "output_type": "stream",
     "text": [
      "                                                                                \r"
     ]
    },
    {
     "name": "stdout",
     "output_type": "stream",
     "text": [
      "+---+--------------------+\n",
      "| id|             dist_Oq|\n",
      "+---+--------------------+\n",
      "| 27|0.033646866255054926|\n",
      "| 69| 0.07074054263034407|\n",
      "| 40| 0.08374055547219363|\n",
      "+---+--------------------+\n",
      "\n",
      "10\n",
      "+---+--------------------+\n",
      "| id|           distances|\n",
      "+---+--------------------+\n",
      "| 27|0.033646866255054926|\n",
      "| 69| 0.07074054263034407|\n",
      "| 40| 0.08374055547219363|\n",
      "+---+--------------------+\n",
      "\n"
     ]
    }
   ],
   "source": [
    "# measure the execution time of the function\n",
    "start_time_laesa = time.time()\n",
    "result = laesa_knn(df, oq, k)\n",
    "end_time_laesa = time.time()\n",
    "result[0].show()\n",
    "print(result[1])\n",
    "# measure the execution time of the function\n",
    "start_time_knn = time.time()\n",
    "result2 = knn(df, oq, k)\n",
    "end_time_knn = time.time()\n",
    "result2.show()"
   ]
  },
  {
   "cell_type": "code",
   "execution_count": 13,
   "id": "2c0265c1",
   "metadata": {},
   "outputs": [
    {
     "name": "stdout",
     "output_type": "stream",
     "text": [
      "Execution laesa-knn time: 12.610692501068115\n",
      "Execution knn time: 0.04470992088317871\n"
     ]
    }
   ],
   "source": [
    "# print the execution time\n",
    "\n",
    "print(\"Execution laesa-knn time:\", end_time_laesa - start_time_laesa)\n",
    "\n",
    "print(\"Execution knn time:\", end_time_knn - start_time_knn)"
   ]
  },
  {
   "cell_type": "code",
   "execution_count": null,
   "id": "1cc7ead6",
   "metadata": {},
   "outputs": [],
   "source": []
  }
 ],
 "metadata": {
  "kernelspec": {
   "display_name": "Python 3 (ipykernel)",
   "language": "python",
   "name": "python3"
  },
  "language_info": {
   "codemirror_mode": {
    "name": "ipython",
    "version": 3
   },
   "file_extension": ".py",
   "mimetype": "text/x-python",
   "name": "python",
   "nbconvert_exporter": "python",
   "pygments_lexer": "ipython3",
   "version": "3.9.13"
  }
 },
 "nbformat": 4,
 "nbformat_minor": 5
}
